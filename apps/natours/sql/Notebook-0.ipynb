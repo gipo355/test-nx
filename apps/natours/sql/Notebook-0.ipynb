{
    "metadata": {
        "kernelspec": {
            "name": "SQL",
            "display_name": "SQL",
            "language": "sql"
        },
        "language_info": {
            "name": "sql",
            "version": ""
        }
    },
    "nbformat_minor": 2,
    "nbformat": 4,
    "cells": [
        {
            "cell_type": "code",
            "source": [
                "CREATE TABLE Shark (\n",
                "    id SERIAL PRIMARY KEY,\n",
                "    name VARCHAR(50) NOT NULL,\n",
                "    color VARCHAR(50) NOT NULL\n",
                ");"
            ],
            "metadata": {
                "azdata_cell_guid": "3286e7f5-e1d5-4ebf-8fe9-642f41395f26",
                "language": "sql"
            },
            "outputs": [
                {
                    "output_type": "display_data",
                    "data": {
                        "text/html": "Commands completed successfully"
                    },
                    "metadata": {}
                },
                {
                    "output_type": "display_data",
                    "data": {
                        "text/html": "Total execution time: 00:00:00.005"
                    },
                    "metadata": {}
                }
            ],
            "execution_count": 2
        },
        {
            "cell_type": "code",
            "source": [
                "SELECT * FROM Shark;"
            ],
            "metadata": {
                "azdata_cell_guid": "32ce0c36-2a8e-4aff-9830-217295487d77",
                "language": "sql"
            },
            "outputs": [
{
    "output_type": "display_data",
    "data": {
        "text/html": "(6 row(s) affected)"
    },
    "metadata": {}
}, {
    "output_type": "display_data",
    "data": {
        "text/html": "Total execution time: 00:00:00.001"
    },
    "metadata": {}
}, {
    "output_type": "execute_result",
    "metadata": {},
    "execution_count": 17,
    "data": {
        "application/vnd.dataresource+json": {
            "schema": {
                "fields": [
                    {
                        "name": "id"
                    },
                    {
                        "name": "name"
                    },
                    {
                        "name": "color"
                    }
                ]
            },
            "data": [
                {
                    "0": "2",
                    "1": "gigio",
                    "2": "teal"
                },
                {
                    "0": "6",
                    "1": "san",
                    "2": "red"
                },
                {
                    "0": "8",
                    "1": "san",
                    "2": "red"
                },
                {
                    "0": "9",
                    "1": "san",
                    "2": "red"
                },
                {
                    "0": "10",
                    "1": "san",
                    "2": "red"
                },
                {
                    "0": "11",
                    "1": "san",
                    "2": "red"
                }
            ]
        },
        "text/html": [
            "<table>",
            "<tr><th>id</th><th>name</th><th>color</th></tr>",
            "<tr><td>2</td><td>gigio</td><td>teal</td></tr>",
            "<tr><td>6</td><td>san</td><td>red</td></tr>",
            "<tr><td>8</td><td>san</td><td>red</td></tr>",
            "<tr><td>9</td><td>san</td><td>red</td></tr>",
            "<tr><td>10</td><td>san</td><td>red</td></tr>",
            "<tr><td>11</td><td>san</td><td>red</td></tr>",
            "</table>"
        ]
    }
}
],
            "execution_count": 17
        },
        {
            "cell_type": "code",
            "source": [
                "DELETE FROM Shark WHERE id = 3"
            ],
            "metadata": {
                "azdata_cell_guid": "61af3b8d-1379-4181-a92c-7afa0cc13531",
                "language": "sql"
            },
            "outputs": [
                {
                    "output_type": "display_data",
                    "data": {
                        "text/html": "Commands completed successfully"
                    },
                    "metadata": {}
                },
                {
                    "output_type": "display_data",
                    "data": {
                        "text/html": "Total execution time: 00:00:00.002"
                    },
                    "metadata": {}
                }
            ],
            "execution_count": 10
        }
    ]
}